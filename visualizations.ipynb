{
 "cells": [
  {
   "cell_type": "code",
   "execution_count": 39,
   "metadata": {},
   "outputs": [],
   "source": [
    "import pandas as pd\n",
    "import matplotlib.pyplot as plt\n",
    "from collections import Counter\n",
    "%matplotlib inline "
   ]
  },
  {
   "cell_type": "code",
   "execution_count": 111,
   "metadata": {},
   "outputs": [
    {
     "data": {
      "text/html": [
       "<div>\n",
       "<style scoped>\n",
       "    .dataframe tbody tr th:only-of-type {\n",
       "        vertical-align: middle;\n",
       "    }\n",
       "\n",
       "    .dataframe tbody tr th {\n",
       "        vertical-align: top;\n",
       "    }\n",
       "\n",
       "    .dataframe thead th {\n",
       "        text-align: right;\n",
       "    }\n",
       "</style>\n",
       "<table border=\"1\" class=\"dataframe\">\n",
       "  <thead>\n",
       "    <tr style=\"text-align: right;\">\n",
       "      <th></th>\n",
       "      <th>Unnamed: 0</th>\n",
       "      <th>candidate_name</th>\n",
       "      <th>job_title</th>\n",
       "      <th>resume</th>\n",
       "    </tr>\n",
       "  </thead>\n",
       "  <tbody>\n",
       "    <tr>\n",
       "      <th>0</th>\n",
       "      <td>0</td>\n",
       "      <td>Ardiela Dramat</td>\n",
       "      <td>administration manager</td>\n",
       "      <td>['confidentiality', 'clause', 'information', '...</td>\n",
       "    </tr>\n",
       "    <tr>\n",
       "      <th>1</th>\n",
       "      <td>1</td>\n",
       "      <td>Jeanine Adant</td>\n",
       "      <td>administration manager</td>\n",
       "      <td>['confidentiality', 'clause', 'information', '...</td>\n",
       "    </tr>\n",
       "    <tr>\n",
       "      <th>2</th>\n",
       "      <td>2</td>\n",
       "      <td>Joan Nicolene Esterhuizen</td>\n",
       "      <td>administration manager</td>\n",
       "      <td>['confidentiality', 'clause', 'information', '...</td>\n",
       "    </tr>\n",
       "    <tr>\n",
       "      <th>3</th>\n",
       "      <td>3</td>\n",
       "      <td>Rozina Scheepers</td>\n",
       "      <td>administration manager</td>\n",
       "      <td>['confidentiality', 'clause', 'information', '...</td>\n",
       "    </tr>\n",
       "    <tr>\n",
       "      <th>4</th>\n",
       "      <td>4</td>\n",
       "      <td>Samantha Jennings</td>\n",
       "      <td>administration manager</td>\n",
       "      <td>['information', 'concerning', 'candidate', 'fu...</td>\n",
       "    </tr>\n",
       "  </tbody>\n",
       "</table>\n",
       "</div>"
      ],
      "text/plain": [
       "   Unnamed: 0             candidate_name               job_title  \\\n",
       "0           0             Ardiela Dramat  administration manager   \n",
       "1           1              Jeanine Adant  administration manager   \n",
       "2           2  Joan Nicolene Esterhuizen  administration manager   \n",
       "3           3           Rozina Scheepers  administration manager   \n",
       "4           4          Samantha Jennings  administration manager   \n",
       "\n",
       "                                              resume  \n",
       "0  ['confidentiality', 'clause', 'information', '...  \n",
       "1  ['confidentiality', 'clause', 'information', '...  \n",
       "2  ['confidentiality', 'clause', 'information', '...  \n",
       "3  ['confidentiality', 'clause', 'information', '...  \n",
       "4  ['information', 'concerning', 'candidate', 'fu...  "
      ]
     },
     "execution_count": 111,
     "metadata": {},
     "output_type": "execute_result"
    }
   ],
   "source": [
    "data = pd.read_csv('resume_challenge.csv')\n",
    "data.head()"
   ]
  },
  {
   "cell_type": "code",
   "execution_count": 112,
   "metadata": {},
   "outputs": [
    {
     "name": "stdout",
     "output_type": "stream",
     "text": [
      "<class 'pandas.core.frame.DataFrame'>\n",
      "RangeIndex: 133 entries, 0 to 132\n",
      "Data columns (total 4 columns):\n",
      "Unnamed: 0        133 non-null int64\n",
      "candidate_name    133 non-null object\n",
      "job_title         133 non-null object\n",
      "resume            133 non-null object\n",
      "dtypes: int64(1), object(3)\n",
      "memory usage: 4.2+ KB\n"
     ]
    }
   ],
   "source": [
    "data.info()"
   ]
  },
  {
   "cell_type": "code",
   "execution_count": 113,
   "metadata": {},
   "outputs": [],
   "source": [
    "col_names =  ['job_title', 'text']\n",
    "data_  = pd.DataFrame(columns = col_names)"
   ]
  },
  {
   "cell_type": "code",
   "execution_count": 115,
   "metadata": {},
   "outputs": [],
   "source": [
    "count = len(data)\n",
    "i = 0\n",
    "previous = \"\"\n",
    "text = \"\"\n",
    "while i < count:\n",
    "    if previous == data['job_title'][i]:\n",
    "        text = text + data['resume'][i]\n",
    "    else:\n",
    "        data_.loc[len(data_)] = [previous, text]\n",
    "        text = \"\"\n",
    "    previous = data['job_title'][i]\n",
    "    i+=1"
   ]
  },
  {
   "cell_type": "code",
   "execution_count": 116,
   "metadata": {},
   "outputs": [
    {
     "data": {
      "text/plain": [
       "str"
      ]
     },
     "execution_count": 116,
     "metadata": {},
     "output_type": "execute_result"
    }
   ],
   "source": [
    "x = data_['text'][1]\n",
    "type(x)"
   ]
  },
  {
   "cell_type": "code",
   "execution_count": 82,
   "metadata": {},
   "outputs": [],
   "source": [
    "for x in data_['text']:\n",
    "    x = ''.join(x)\n",
    "    #print (x)\n",
    "#     count = Counter(x)\n",
    "#     arranged = sorted(count.iteritems(), key=lambda (k, v): (-v, k))[:10]\n",
    "#     a_data = arranged\n",
    "#     print a_data\n",
    "    #names, values = zip(*data_)  # @comment by Matthias"
   ]
  },
  {
   "cell_type": "code",
   "execution_count": 84,
   "metadata": {},
   "outputs": [
    {
     "data": {
      "text/plain": [
       "''"
      ]
     },
     "execution_count": 84,
     "metadata": {},
     "output_type": "execute_result"
    }
   ],
   "source": [
    "data_['text'][0]"
   ]
  },
  {
   "cell_type": "code",
   "execution_count": null,
   "metadata": {},
   "outputs": [],
   "source": []
  }
 ],
 "metadata": {
  "kernelspec": {
   "display_name": "Python 2",
   "language": "python",
   "name": "python2"
  },
  "language_info": {
   "codemirror_mode": {
    "name": "ipython",
    "version": 2
   },
   "file_extension": ".py",
   "mimetype": "text/x-python",
   "name": "python",
   "nbconvert_exporter": "python",
   "pygments_lexer": "ipython2",
   "version": "2.7.14"
  }
 },
 "nbformat": 4,
 "nbformat_minor": 2
}
